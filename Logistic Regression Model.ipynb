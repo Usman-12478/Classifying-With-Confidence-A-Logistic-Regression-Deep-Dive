{
 "cells": [
  {
   "cell_type": "code",
   "execution_count": 1,
   "id": "cfc2c494",
   "metadata": {
    "_cell_guid": "b1076dfc-b9ad-4769-8c92-a6c4dae69d19",
    "_uuid": "8f2839f25d086af736a60e9eeb907d3b93b6e0e5",
    "execution": {
     "iopub.execute_input": "2024-09-28T12:05:55.574867Z",
     "iopub.status.busy": "2024-09-28T12:05:55.574477Z",
     "iopub.status.idle": "2024-09-28T12:05:58.135653Z",
     "shell.execute_reply": "2024-09-28T12:05:58.134658Z"
    },
    "papermill": {
     "duration": 2.577453,
     "end_time": "2024-09-28T12:05:58.138274",
     "exception": false,
     "start_time": "2024-09-28T12:05:55.560821",
     "status": "completed"
    },
    "tags": []
   },
   "outputs": [],
   "source": [
    "import numpy as np\n",
    "import pandas as pd\n",
    "import seaborn as sns\n",
    "import matplotlib.pyplot as plt\n",
    "import warnings\n",
    "warnings.filterwarnings('ignore')\n",
    "from sklearn.model_selection import train_test_split\n",
    "from sklearn.linear_model import LogisticRegression\n",
    "from sklearn.metrics import confusion_matrix, accuracy_score, precision_score, recall_score, f1_score, mean_squared_error, mean_absolute_error"
   ]
  },
  {
   "cell_type": "markdown",
   "id": "67abeb35",
   "metadata": {
    "papermill": {
     "duration": 0.011035,
     "end_time": "2024-09-28T12:05:58.161167",
     "exception": false,
     "start_time": "2024-09-28T12:05:58.150132",
     "status": "completed"
    },
    "tags": []
   },
   "source": [
    "# **Getting Dataset of Binary Class**"
   ]
  },
  {
   "cell_type": "code",
   "execution_count": 2,
   "id": "33b78d68",
   "metadata": {
    "execution": {
     "iopub.execute_input": "2024-09-28T12:05:58.185830Z",
     "iopub.status.busy": "2024-09-28T12:05:58.185279Z",
     "iopub.status.idle": "2024-09-28T12:05:58.209805Z",
     "shell.execute_reply": "2024-09-28T12:05:58.208787Z"
    },
    "papermill": {
     "duration": 0.039738,
     "end_time": "2024-09-28T12:05:58.212344",
     "exception": false,
     "start_time": "2024-09-28T12:05:58.172606",
     "status": "completed"
    },
    "tags": []
   },
   "outputs": [
    {
     "data": {
      "text/html": [
       "<div>\n",
       "<style scoped>\n",
       "    .dataframe tbody tr th:only-of-type {\n",
       "        vertical-align: middle;\n",
       "    }\n",
       "\n",
       "    .dataframe tbody tr th {\n",
       "        vertical-align: top;\n",
       "    }\n",
       "\n",
       "    .dataframe thead th {\n",
       "        text-align: right;\n",
       "    }\n",
       "</style>\n",
       "<table border=\"1\" class=\"dataframe\">\n",
       "  <thead>\n",
       "    <tr style=\"text-align: right;\">\n",
       "      <th></th>\n",
       "      <th>Age</th>\n",
       "      <th>have_insurance</th>\n",
       "    </tr>\n",
       "  </thead>\n",
       "  <tbody>\n",
       "    <tr>\n",
       "      <th>0</th>\n",
       "      <td>22</td>\n",
       "      <td>0</td>\n",
       "    </tr>\n",
       "    <tr>\n",
       "      <th>1</th>\n",
       "      <td>25</td>\n",
       "      <td>0</td>\n",
       "    </tr>\n",
       "    <tr>\n",
       "      <th>2</th>\n",
       "      <td>47</td>\n",
       "      <td>1</td>\n",
       "    </tr>\n",
       "    <tr>\n",
       "      <th>3</th>\n",
       "      <td>52</td>\n",
       "      <td>0</td>\n",
       "    </tr>\n",
       "    <tr>\n",
       "      <th>4</th>\n",
       "      <td>46</td>\n",
       "      <td>1</td>\n",
       "    </tr>\n",
       "  </tbody>\n",
       "</table>\n",
       "</div>"
      ],
      "text/plain": [
       "   Age  have_insurance\n",
       "0   22               0\n",
       "1   25               0\n",
       "2   47               1\n",
       "3   52               0\n",
       "4   46               1"
      ]
     },
     "execution_count": 2,
     "metadata": {},
     "output_type": "execute_result"
    }
   ],
   "source": [
    "data = {\n",
    "    'Age' : [22, 25, 47, 52, 46, 56, 55, 60, 62, 61, 18, 28, 27, 29, 47],\n",
    "    'have_insurance' : [0, 0, 1, 0, 1, 1, 0, 1, 1, 1, 0, 0, 0, 0, 1]\n",
    "}\n",
    "insurance_data = pd.DataFrame(data)\n",
    "insurance_data.head()"
   ]
  },
  {
   "cell_type": "markdown",
   "id": "8a9d0b31",
   "metadata": {
    "papermill": {
     "duration": 0.011348,
     "end_time": "2024-09-28T12:05:58.235666",
     "exception": false,
     "start_time": "2024-09-28T12:05:58.224318",
     "status": "completed"
    },
    "tags": []
   },
   "source": [
    "# Creating Scatterplot"
   ]
  },
  {
   "cell_type": "code",
   "execution_count": 3,
   "id": "4330bc8b",
   "metadata": {
    "execution": {
     "iopub.execute_input": "2024-09-28T12:05:58.260671Z",
     "iopub.status.busy": "2024-09-28T12:05:58.260287Z",
     "iopub.status.idle": "2024-09-28T12:05:58.554516Z",
     "shell.execute_reply": "2024-09-28T12:05:58.553483Z"
    },
    "papermill": {
     "duration": 0.309971,
     "end_time": "2024-09-28T12:05:58.557472",
     "exception": false,
     "start_time": "2024-09-28T12:05:58.247501",
     "status": "completed"
    },
    "tags": []
   },
   "outputs": [
    {
     "data": {
      "image/png": "[encoded data removed]",
      "text/plain": [
       "<Figure size 640x480 with 1 Axes>"
      ]
     },
     "metadata": {},
     "output_type": "display_data"
    }
   ],
   "source": [
    "sns.scatterplot(x = 'Age', y = 'have_insurance', data = insurance_data)\n",
    "plt.xlabel('Age')\n",
    "plt.ylabel('Have Insurance')\n",
    "plt.show()"
   ]
  },
  {
   "cell_type": "markdown",
   "id": "6a01da44",
   "metadata": {
    "papermill": {
     "duration": 0.011959,
     "end_time": "2024-09-28T12:05:58.582630",
     "exception": false,
     "start_time": "2024-09-28T12:05:58.570671",
     "status": "completed"
    },
    "tags": []
   },
   "source": [
    "# Building Model"
   ]
  },
  {
   "cell_type": "code",
   "execution_count": 4,
   "id": "756d78e1",
   "metadata": {
    "execution": {
     "iopub.execute_input": "2024-09-28T12:05:58.608547Z",
     "iopub.status.busy": "2024-09-28T12:05:58.608133Z",
     "iopub.status.idle": "2024-09-28T12:05:58.613172Z",
     "shell.execute_reply": "2024-09-28T12:05:58.612085Z"
    },
    "papermill": {
     "duration": 0.020821,
     "end_time": "2024-09-28T12:05:58.615653",
     "exception": false,
     "start_time": "2024-09-28T12:05:58.594832",
     "status": "completed"
    },
    "tags": []
   },
   "outputs": [],
   "source": [
    "model = LogisticRegression()"
   ]
  },
  {
   "cell_type": "code",
   "execution_count": 5,
   "id": "64992bd6",
   "metadata": {
    "execution": {
     "iopub.execute_input": "2024-09-28T12:05:58.642603Z",
     "iopub.status.busy": "2024-09-28T12:05:58.641889Z",
     "iopub.status.idle": "2024-09-28T12:05:58.647835Z",
     "shell.execute_reply": "2024-09-28T12:05:58.646716Z"
    },
    "papermill": {
     "duration": 0.021478,
     "end_time": "2024-09-28T12:05:58.650180",
     "exception": false,
     "start_time": "2024-09-28T12:05:58.628702",
     "status": "completed"
    },
    "tags": []
   },
   "outputs": [],
   "source": [
    "X = np.array(insurance_data['Age']).reshape(-1,1)\n",
    "y = np.array(insurance_data['have_insurance']).reshape(-1,1)"
   ]
  },
  {
   "cell_type": "code",
   "execution_count": 6,
   "id": "39cb9826",
   "metadata": {
    "execution": {
     "iopub.execute_input": "2024-09-28T12:05:58.675983Z",
     "iopub.status.busy": "2024-09-28T12:05:58.675585Z",
     "iopub.status.idle": "2024-09-28T12:05:58.683313Z",
     "shell.execute_reply": "2024-09-28T12:05:58.682192Z"
    },
    "papermill": {
     "duration": 0.023637,
     "end_time": "2024-09-28T12:05:58.685994",
     "exception": false,
     "start_time": "2024-09-28T12:05:58.662357",
     "status": "completed"
    },
    "tags": []
   },
   "outputs": [],
   "source": [
    "X_train, X_test, y_train, y_test = train_test_split(X, y, test_size = 0.2, random_state = 42)"
   ]
  },
  {
   "cell_type": "code",
   "execution_count": 7,
   "id": "939d6aa8",
   "metadata": {
    "execution": {
     "iopub.execute_input": "2024-09-28T12:05:58.713057Z",
     "iopub.status.busy": "2024-09-28T12:05:58.712063Z",
     "iopub.status.idle": "2024-09-28T12:05:58.719650Z",
     "shell.execute_reply": "2024-09-28T12:05:58.718377Z"
    },
    "papermill": {
     "duration": 0.023542,
     "end_time": "2024-09-28T12:05:58.722127",
     "exception": false,
     "start_time": "2024-09-28T12:05:58.698585",
     "status": "completed"
    },
    "tags": []
   },
   "outputs": [
    {
     "data": {
      "text/plain": [
       "(12, 3, 12, 3)"
      ]
     },
     "execution_count": 7,
     "metadata": {},
     "output_type": "execute_result"
    }
   ],
   "source": [
    "len(X_train), len(X_test), len(y_train), len(y_test)"
   ]
  },
  {
   "cell_type": "code",
   "execution_count": 8,
   "id": "a294aea5",
   "metadata": {
    "execution": {
     "iopub.execute_input": "2024-09-28T12:05:58.748236Z",
     "iopub.status.busy": "2024-09-28T12:05:58.747836Z",
     "iopub.status.idle": "2024-09-28T12:05:58.768718Z",
     "shell.execute_reply": "2024-09-28T12:05:58.767651Z"
    },
    "papermill": {
     "duration": 0.037459,
     "end_time": "2024-09-28T12:05:58.771959",
     "exception": false,
     "start_time": "2024-09-28T12:05:58.734500",
     "status": "completed"
    },
    "tags": []
   },
   "outputs": [
    {
     "data": {
      "text/html": [
       "<style>#sk-container-id-1 {color: black;background-color: white;}#sk-container-id-1 pre{padding: 0;}#sk-container-id-1 div.sk-toggleable {background-color: white;}#sk-container-id-1 label.sk-toggleable__label {cursor: pointer;display: block;width: 100%;margin-bottom: 0;padding: 0.3em;box-sizing: border-box;text-align: center;}#sk-container-id-1 label.sk-toggleable__label-arrow:before {content: \"▸\";float: left;margin-right: 0.25em;color: #696969;}#sk-container-id-1 label.sk-toggleable__label-arrow:hover:before {color: black;}#sk-container-id-1 div.sk-estimator:hover label.sk-toggleable__label-arrow:before {color: black;}#sk-container-id-1 div.sk-toggleable__content {max-height: 0;max-width: 0;overflow: hidden;text-align: left;background-color: #f0f8ff;}#sk-container-id-1 div.sk-toggleable__content pre {margin: 0.2em;color: black;border-radius: 0.25em;background-color: #f0f8ff;}#sk-container-id-1 input.sk-toggleable__control:checked~div.sk-toggleable__content {max-height: 200px;max-width: 100%;overflow: auto;}#sk-container-id-1 input.sk-toggleable__control:checked~label.sk-toggleable__label-arrow:before {content: \"▾\";}#sk-container-id-1 div.sk-estimator input.sk-toggleable__control:checked~label.sk-toggleable__label {background-color: #d4ebff;}#sk-container-id-1 div.sk-label input.sk-toggleable__control:checked~label.sk-toggleable__label {background-color: #d4ebff;}#sk-container-id-1 input.sk-hidden--visually {border: 0;clip: rect(1px 1px 1px 1px);clip: rect(1px, 1px, 1px, 1px);height: 1px;margin: -1px;overflow: hidden;padding: 0;position: absolute;width: 1px;}#sk-container-id-1 div.sk-estimator {font-family: monospace;background-color: #f0f8ff;border: 1px dotted black;border-radius: 0.25em;box-sizing: border-box;margin-bottom: 0.5em;}#sk-container-id-1 div.sk-estimator:hover {background-color: #d4ebff;}#sk-container-id-1 div.sk-parallel-item::after {content: \"\";width: 100%;border-bottom: 1px solid gray;flex-grow: 1;}#sk-container-id-1 div.sk-label:hover label.sk-toggleable__label {background-color: #d4ebff;}#sk-container-id-1 div.sk-serial::before {content: \"\";position: absolute;border-left: 1px solid gray;box-sizing: border-box;top: 0;bottom: 0;left: 50%;z-index: 0;}#sk-container-id-1 div.sk-serial {display: flex;flex-direction: column;align-items: center;background-color: white;padding-right: 0.2em;padding-left: 0.2em;position: relative;}#sk-container-id-1 div.sk-item {position: relative;z-index: 1;}#sk-container-id-1 div.sk-parallel {display: flex;align-items: stretch;justify-content: center;background-color: white;position: relative;}#sk-container-id-1 div.sk-item::before, #sk-container-id-1 div.sk-parallel-item::before {content: \"\";position: absolute;border-left: 1px solid gray;box-sizing: border-box;top: 0;bottom: 0;left: 50%;z-index: -1;}#sk-container-id-1 div.sk-parallel-item {display: flex;flex-direction: column;z-index: 1;position: relative;background-color: white;}#sk-container-id-1 div.sk-parallel-item:first-child::after {align-self: flex-end;width: 50%;}#sk-container-id-1 div.sk-parallel-item:last-child::after {align-self: flex-start;width: 50%;}#sk-container-id-1 div.sk-parallel-item:only-child::after {width: 0;}#sk-container-id-1 div.sk-dashed-wrapped {border: 1px dashed gray;margin: 0 0.4em 0.5em 0.4em;box-sizing: border-box;padding-bottom: 0.4em;background-color: white;}#sk-container-id-1 div.sk-label label {font-family: monospace;font-weight: bold;display: inline-block;line-height: 1.2em;}#sk-container-id-1 div.sk-label-container {text-align: center;}#sk-container-id-1 div.sk-container {/* jupyter's `normalize.less` sets `[hidden] { display: none; }` but bootstrap.min.css set `[hidden] { display: none !important; }` so we also need the `!important` here to be able to override the default hidden behavior on the sphinx rendered scikit-learn.org. See: https://github.com/scikit-learn/scikit-learn/issues/21755 */display: inline-block !important;position: relative;}#sk-container-id-1 div.sk-text-repr-fallback {display: none;}</style><div id=\"sk-container-id-1\" class=\"sk-top-container\"><div class=\"sk-text-repr-fallback\"><pre>LogisticRegression()</pre><b>In a Jupyter environment, please rerun this cell to show the HTML representation or trust the notebook. <br />On GitHub, the HTML representation is unable to render, please try loading this page with nbviewer.org.</b></div><div class=\"sk-container\" hidden><div class=\"sk-item\"><div class=\"sk-estimator sk-toggleable\"><input class=\"sk-toggleable__control sk-hidden--visually\" id=\"sk-estimator-id-1\" type=\"checkbox\" checked><label for=\"sk-estimator-id-1\" class=\"sk-toggleable__label sk-toggleable__label-arrow\">LogisticRegression</label><div class=\"sk-toggleable__content\"><pre>LogisticRegression()</pre></div></div></div></div></div>"
      ],
      "text/plain": [
       "LogisticRegression()"
      ]
     },
     "execution_count": 8,
     "metadata": {},
     "output_type": "execute_result"
    }
   ],
   "source": [
    "model.fit(X_train, y_train)"
   ]
  },
  {
   "cell_type": "code",
   "execution_count": 9,
   "id": "0785656f",
   "metadata": {
    "execution": {
     "iopub.execute_input": "2024-09-28T12:05:58.808685Z",
     "iopub.status.busy": "2024-09-28T12:05:58.807615Z",
     "iopub.status.idle": "2024-09-28T12:05:58.816973Z",
     "shell.execute_reply": "2024-09-28T12:05:58.815864Z"
    },
    "papermill": {
     "duration": 0.030327,
     "end_time": "2024-09-28T12:05:58.820152",
     "exception": false,
     "start_time": "2024-09-28T12:05:58.789825",
     "status": "completed"
    },
    "tags": []
   },
   "outputs": [],
   "source": [
    "y_pred = model.predict(X_test)"
   ]
  },
  {
   "cell_type": "markdown",
   "id": "16df0233",
   "metadata": {
    "papermill": {
     "duration": 0.01219,
     "end_time": "2024-09-28T12:05:58.849310",
     "exception": false,
     "start_time": "2024-09-28T12:05:58.837120",
     "status": "completed"
    },
    "tags": []
   },
   "source": [
    "# Model Evaluation"
   ]
  },
  {
   "cell_type": "code",
   "execution_count": 10,
   "id": "3462d55b",
   "metadata": {
    "execution": {
     "iopub.execute_input": "2024-09-28T12:05:58.876309Z",
     "iopub.status.busy": "2024-09-28T12:05:58.875375Z",
     "iopub.status.idle": "2024-09-28T12:05:58.892280Z",
     "shell.execute_reply": "2024-09-28T12:05:58.890708Z"
    },
    "papermill": {
     "duration": 0.033802,
     "end_time": "2024-09-28T12:05:58.895547",
     "exception": false,
     "start_time": "2024-09-28T12:05:58.861745",
     "status": "completed"
    },
    "tags": []
   },
   "outputs": [
    {
     "name": "stdout",
     "output_type": "stream",
     "text": [
      "Accuracy: 1.00\n",
      "Precision: 1.0000\n",
      "Recall:1.0000\n",
      "F1-Score: 1.0000\n",
      "\n",
      "Confusion Matrix:\n",
      " [[2 0]\n",
      " [0 1]]\n"
     ]
    }
   ],
   "source": [
    "accuracy = accuracy_score(y_test, y_pred)\n",
    "print(f'Accuracy: {accuracy:.2f}')\n",
    "\n",
    "precision = precision_score(y_test, y_pred)\n",
    "print(f\"Precision: {precision:.4f}\")\n",
    "\n",
    "recall = recall_score(y_test, y_pred)\n",
    "print(f'Recall:{recall:.4f}')\n",
    "\n",
    "f1 = f1_score(y_test, y_pred)\n",
    "print(f\"F1-Score: {f1:.4f}\")\n",
    "\n",
    "confusion_matrix = confusion_matrix(y_test, y_pred)\n",
    "print('\\nConfusion Matrix:\\n', confusion_matrix)"
   ]
  },
  {
   "cell_type": "code",
   "execution_count": 11,
   "id": "404cbfc8",
   "metadata": {
    "execution": {
     "iopub.execute_input": "2024-09-28T12:05:58.930919Z",
     "iopub.status.busy": "2024-09-28T12:05:58.930434Z",
     "iopub.status.idle": "2024-09-28T12:05:59.179730Z",
     "shell.execute_reply": "2024-09-28T12:05:59.178738Z"
    },
    "papermill": {
     "duration": 0.269175,
     "end_time": "2024-09-28T12:05:59.182274",
     "exception": false,
     "start_time": "2024-09-28T12:05:58.913099",
     "status": "completed"
    },
    "tags": []
   },
   "outputs": [
    {
     "data": {
      "image/png": "[encoded data removed]",
      "text/plain": [
       "<Figure size 800x400 with 1 Axes>"
      ]
     },
     "metadata": {},
     "output_type": "display_data"
    }
   ],
   "source": [
    "metrics = ['Accuracy', 'Precision', 'Recall', 'F1-Score']\n",
    "values = [accuracy, precision, recall, f1]\n",
    "plt.figure(figsize = (8, 4))\n",
    "plt.bar(metrics, values, color = 'skyblue')\n",
    "plt.xlabel(\"Metrics\")\n",
    "plt.ylabel('Value')\n",
    "plt.title('Evaluation Metrics')\n",
    "plt.show()"
   ]
  },
  {
   "cell_type": "code",
   "execution_count": 12,
   "id": "80da08b8",
   "metadata": {
    "execution": {
     "iopub.execute_input": "2024-09-28T12:05:59.210903Z",
     "iopub.status.busy": "2024-09-28T12:05:59.210053Z",
     "iopub.status.idle": "2024-09-28T12:05:59.458871Z",
     "shell.execute_reply": "2024-09-28T12:05:59.457810Z"
    },
    "papermill": {
     "duration": 0.266009,
     "end_time": "2024-09-28T12:05:59.461603",
     "exception": false,
     "start_time": "2024-09-28T12:05:59.195594",
     "status": "completed"
    },
    "tags": []
   },
   "outputs": [
    {
     "data": {
      "image/png": "[encoded data removed]",
      "text/plain": [
       "<Figure size 500x400 with 2 Axes>"
      ]
     },
     "metadata": {},
     "output_type": "display_data"
    }
   ],
   "source": [
    "plt.figure(figsize = (5, 4))\n",
    "sns.heatmap(confusion_matrix, annot = True, cmap = 'Blues', fmt = 'd')\n",
    "plt.xlabel('Predicted Values')\n",
    "plt.ylabel('Actual Values')\n",
    "plt.title('Confusion Matrix')\n",
    "plt.show()"
   ]
  },
  {
   "cell_type": "markdown",
   "id": "08717262",
   "metadata": {
    "papermill": {
     "duration": 0.013262,
     "end_time": "2024-09-28T12:05:59.488460",
     "exception": false,
     "start_time": "2024-09-28T12:05:59.475198",
     "status": "completed"
    },
    "tags": []
   },
   "source": [
    "# **Logistic Regression Multi Class Classification**"
   ]
  },
  {
   "cell_type": "code",
   "execution_count": 13,
   "id": "e2032f01",
   "metadata": {
    "execution": {
     "iopub.execute_input": "2024-09-28T12:05:59.517349Z",
     "iopub.status.busy": "2024-09-28T12:05:59.516478Z",
     "iopub.status.idle": "2024-09-28T12:05:59.626168Z",
     "shell.execute_reply": "2024-09-28T12:05:59.625263Z"
    },
    "papermill": {
     "duration": 0.126961,
     "end_time": "2024-09-28T12:05:59.628903",
     "exception": false,
     "start_time": "2024-09-28T12:05:59.501942",
     "status": "completed"
    },
    "tags": []
   },
   "outputs": [],
   "source": [
    "from sklearn.datasets import load_digits"
   ]
  },
  {
   "cell_type": "markdown",
   "id": "a31ff669",
   "metadata": {
    "papermill": {
     "duration": 0.013315,
     "end_time": "2024-09-28T12:05:59.655923",
     "exception": false,
     "start_time": "2024-09-28T12:05:59.642608",
     "status": "completed"
    },
    "tags": []
   },
   "source": [
    "# Loading The Digit Dataset"
   ]
  },
  {
   "cell_type": "code",
   "execution_count": 14,
   "id": "a3d2a3b4",
   "metadata": {
    "execution": {
     "iopub.execute_input": "2024-09-28T12:05:59.684836Z",
     "iopub.status.busy": "2024-09-28T12:05:59.683774Z",
     "iopub.status.idle": "2024-09-28T12:05:59.710905Z",
     "shell.execute_reply": "2024-09-28T12:05:59.709737Z"
    },
    "papermill": {
     "duration": 0.044248,
     "end_time": "2024-09-28T12:05:59.713620",
     "exception": false,
     "start_time": "2024-09-28T12:05:59.669372",
     "status": "completed"
    },
    "tags": []
   },
   "outputs": [],
   "source": [
    "digits = load_digits()"
   ]
  },
  {
   "cell_type": "code",
   "execution_count": 15,
   "id": "7f3cbfdf",
   "metadata": {
    "execution": {
     "iopub.execute_input": "2024-09-28T12:05:59.743228Z",
     "iopub.status.busy": "2024-09-28T12:05:59.742625Z",
     "iopub.status.idle": "2024-09-28T12:05:59.750555Z",
     "shell.execute_reply": "2024-09-28T12:05:59.749363Z"
    },
    "papermill": {
     "duration": 0.024731,
     "end_time": "2024-09-28T12:05:59.752783",
     "exception": false,
     "start_time": "2024-09-28T12:05:59.728052",
     "status": "completed"
    },
    "tags": []
   },
   "outputs": [
    {
     "data": {
      "text/plain": [
       "array([[ 0.,  0.,  0., 12., 13.,  5.,  0.,  0.],\n",
       "       [ 0.,  0.,  0., 11., 16.,  9.,  0.,  0.],\n",
       "       [ 0.,  0.,  3., 15., 16.,  6.,  0.,  0.],\n",
       "       [ 0.,  7., 15., 16., 16.,  2.,  0.,  0.],\n",
       "       [ 0.,  0.,  1., 16., 16.,  3.,  0.,  0.],\n",
       "       [ 0.,  0.,  1., 16., 16.,  6.,  0.,  0.],\n",
       "       [ 0.,  0.,  1., 16., 16.,  6.,  0.,  0.],\n",
       "       [ 0.,  0.,  0., 11., 16., 10.,  0.,  0.]])"
      ]
     },
     "execution_count": 15,
     "metadata": {},
     "output_type": "execute_result"
    }
   ],
   "source": [
    "digits.images[1]"
   ]
  },
  {
   "cell_type": "markdown",
   "id": "1f30906c",
   "metadata": {
    "papermill": {
     "duration": 0.013139,
     "end_time": "2024-09-28T12:05:59.779564",
     "exception": false,
     "start_time": "2024-09-28T12:05:59.766425",
     "status": "completed"
    },
    "tags": []
   },
   "source": [
    "# Displaying Images"
   ]
  },
  {
   "cell_type": "code",
   "execution_count": 16,
   "id": "aba339b9",
   "metadata": {
    "execution": {
     "iopub.execute_input": "2024-09-28T12:05:59.808658Z",
     "iopub.status.busy": "2024-09-28T12:05:59.808265Z",
     "iopub.status.idle": "2024-09-28T12:06:00.084435Z",
     "shell.execute_reply": "2024-09-28T12:06:00.082872Z"
    },
    "papermill": {
     "duration": 0.295106,
     "end_time": "2024-09-28T12:06:00.088451",
     "exception": false,
     "start_time": "2024-09-28T12:05:59.793345",
     "status": "completed"
    },
    "tags": []
   },
   "outputs": [
    {
     "data": {
      "image/png": "[encoded data removed]",
      "text/plain": [
       "<Figure size 480x480 with 1 Axes>"
      ]
     },
     "metadata": {},
     "output_type": "display_data"
    }
   ],
   "source": [
    "plt.matshow(digits.images[1], cmap = 'gray')\n",
    "plt.axis('off')\n",
    "plt.show()\n"
   ]
  },
  {
   "cell_type": "code",
   "execution_count": 17,
   "id": "9d71b3b9",
   "metadata": {
    "execution": {
     "iopub.execute_input": "2024-09-28T12:06:00.143317Z",
     "iopub.status.busy": "2024-09-28T12:06:00.142476Z",
     "iopub.status.idle": "2024-09-28T12:06:00.414683Z",
     "shell.execute_reply": "2024-09-28T12:06:00.413159Z"
    },
    "papermill": {
     "duration": 0.301715,
     "end_time": "2024-09-28T12:06:00.418855",
     "exception": false,
     "start_time": "2024-09-28T12:06:00.117140",
     "status": "completed"
    },
    "tags": []
   },
   "outputs": [
    {
     "data": {
      "image/png": "[encoded data removed]",
      "text/plain": [
       "<Figure size 480x480 with 1 Axes>"
      ]
     },
     "metadata": {},
     "output_type": "display_data"
    }
   ],
   "source": [
    "plt.matshow(digits.images[4], cmap = 'gray')\n",
    "plt.axis('off')\n",
    "plt.show()"
   ]
  },
  {
   "cell_type": "code",
   "execution_count": 18,
   "id": "26a032cf",
   "metadata": {
    "execution": {
     "iopub.execute_input": "2024-09-28T12:06:00.474035Z",
     "iopub.status.busy": "2024-09-28T12:06:00.473009Z",
     "iopub.status.idle": "2024-09-28T12:06:00.645374Z",
     "shell.execute_reply": "2024-09-28T12:06:00.644106Z"
    },
    "papermill": {
     "duration": 0.202806,
     "end_time": "2024-09-28T12:06:00.650321",
     "exception": false,
     "start_time": "2024-09-28T12:06:00.447515",
     "status": "completed"
    },
    "tags": []
   },
   "outputs": [
    {
     "data": {
      "image/png": "[encoded data removed]",
      "text/plain": [
       "<Figure size 480x480 with 1 Axes>"
      ]
     },
     "metadata": {},
     "output_type": "display_data"
    }
   ],
   "source": [
    "plt.matshow(digits.images[9], cmap = 'gray')\n",
    "plt.axis('off')\n",
    "plt.show()"
   ]
  },
  {
   "cell_type": "code",
   "execution_count": 19,
   "id": "553bd209",
   "metadata": {
    "execution": {
     "iopub.execute_input": "2024-09-28T12:06:00.713409Z",
     "iopub.status.busy": "2024-09-28T12:06:00.711728Z",
     "iopub.status.idle": "2024-09-28T12:06:00.987364Z",
     "shell.execute_reply": "2024-09-28T12:06:00.985410Z"
    },
    "papermill": {
     "duration": 0.314174,
     "end_time": "2024-09-28T12:06:00.993755",
     "exception": false,
     "start_time": "2024-09-28T12:06:00.679581",
     "status": "completed"
    },
    "tags": []
   },
   "outputs": [
    {
     "data": {
      "image/png": "[encoded data removed]",
      "text/plain": [
       "<Figure size 480x480 with 1 Axes>"
      ]
     },
     "metadata": {},
     "output_type": "display_data"
    }
   ],
   "source": [
    "plt.matshow(digits.images[7])\n",
    "plt.axis('off')\n",
    "plt.show()"
   ]
  },
  {
   "cell_type": "code",
   "execution_count": 20,
   "id": "828e9198",
   "metadata": {
    "execution": {
     "iopub.execute_input": "2024-09-28T12:06:01.049140Z",
     "iopub.status.busy": "2024-09-28T12:06:01.048145Z",
     "iopub.status.idle": "2024-09-28T12:06:01.317666Z",
     "shell.execute_reply": "2024-09-28T12:06:01.315901Z"
    },
    "papermill": {
     "duration": 0.299966,
     "end_time": "2024-09-28T12:06:01.323692",
     "exception": false,
     "start_time": "2024-09-28T12:06:01.023726",
     "status": "completed"
    },
    "tags": []
   },
   "outputs": [
    {
     "data": {
      "image/png": "[encoded data removed]",
      "text/plain": [
       "<Figure size 480x480 with 1 Axes>"
      ]
     },
     "metadata": {},
     "output_type": "display_data"
    }
   ],
   "source": [
    "plt.matshow(digits.images[6])\n",
    "plt.axis('off')\n",
    "plt.show()"
   ]
  },
  {
   "cell_type": "markdown",
   "id": "278ea1c8",
   "metadata": {
    "papermill": {
     "duration": 0.023434,
     "end_time": "2024-09-28T12:06:01.377042",
     "exception": false,
     "start_time": "2024-09-28T12:06:01.353608",
     "status": "completed"
    },
    "tags": []
   },
   "source": [
    "# Building Logistic Regression Model "
   ]
  },
  {
   "cell_type": "code",
   "execution_count": 21,
   "id": "38f8799a",
   "metadata": {
    "execution": {
     "iopub.execute_input": "2024-09-28T12:06:01.408163Z",
     "iopub.status.busy": "2024-09-28T12:06:01.407754Z",
     "iopub.status.idle": "2024-09-28T12:06:01.412983Z",
     "shell.execute_reply": "2024-09-28T12:06:01.411822Z"
    },
    "papermill": {
     "duration": 0.02369,
     "end_time": "2024-09-28T12:06:01.415474",
     "exception": false,
     "start_time": "2024-09-28T12:06:01.391784",
     "status": "completed"
    },
    "tags": []
   },
   "outputs": [],
   "source": [
    "model = LogisticRegression()"
   ]
  },
  {
   "cell_type": "code",
   "execution_count": 22,
   "id": "6b8585d5",
   "metadata": {
    "execution": {
     "iopub.execute_input": "2024-09-28T12:06:01.447028Z",
     "iopub.status.busy": "2024-09-28T12:06:01.446321Z",
     "iopub.status.idle": "2024-09-28T12:06:01.452682Z",
     "shell.execute_reply": "2024-09-28T12:06:01.451550Z"
    },
    "papermill": {
     "duration": 0.024732,
     "end_time": "2024-09-28T12:06:01.455058",
     "exception": false,
     "start_time": "2024-09-28T12:06:01.430326",
     "status": "completed"
    },
    "tags": []
   },
   "outputs": [],
   "source": [
    "X_train, X_test, y_train, y_test = train_test_split(digits.data, digits.target, test_size = 0.2)"
   ]
  },
  {
   "cell_type": "code",
   "execution_count": 23,
   "id": "b04a832d",
   "metadata": {
    "execution": {
     "iopub.execute_input": "2024-09-28T12:06:01.486225Z",
     "iopub.status.busy": "2024-09-28T12:06:01.485827Z",
     "iopub.status.idle": "2024-09-28T12:06:01.493587Z",
     "shell.execute_reply": "2024-09-28T12:06:01.492498Z"
    },
    "papermill": {
     "duration": 0.026182,
     "end_time": "2024-09-28T12:06:01.496049",
     "exception": false,
     "start_time": "2024-09-28T12:06:01.469867",
     "status": "completed"
    },
    "tags": []
   },
   "outputs": [
    {
     "data": {
      "text/plain": [
       "(1437, 360, 1437, 360)"
      ]
     },
     "execution_count": 23,
     "metadata": {},
     "output_type": "execute_result"
    }
   ],
   "source": [
    "len(X_train), len(X_test), len(y_train), len(y_test)"
   ]
  },
  {
   "cell_type": "code",
   "execution_count": 24,
   "id": "d816ea87",
   "metadata": {
    "execution": {
     "iopub.execute_input": "2024-09-28T12:06:01.527161Z",
     "iopub.status.busy": "2024-09-28T12:06:01.526771Z",
     "iopub.status.idle": "2024-09-28T12:06:01.723605Z",
     "shell.execute_reply": "2024-09-28T12:06:01.722486Z"
    },
    "papermill": {
     "duration": 0.216428,
     "end_time": "2024-09-28T12:06:01.727193",
     "exception": false,
     "start_time": "2024-09-28T12:06:01.510765",
     "status": "completed"
    },
    "tags": []
   },
   "outputs": [
    {
     "data": {
      "text/html": [
       "<style>#sk-container-id-2 {color: black;background-color: white;}#sk-container-id-2 pre{padding: 0;}#sk-container-id-2 div.sk-toggleable {background-color: white;}#sk-container-id-2 label.sk-toggleable__label {cursor: pointer;display: block;width: 100%;margin-bottom: 0;padding: 0.3em;box-sizing: border-box;text-align: center;}#sk-container-id-2 label.sk-toggleable__label-arrow:before {content: \"▸\";float: left;margin-right: 0.25em;color: #696969;}#sk-container-id-2 label.sk-toggleable__label-arrow:hover:before {color: black;}#sk-container-id-2 div.sk-estimator:hover label.sk-toggleable__label-arrow:before {color: black;}#sk-container-id-2 div.sk-toggleable__content {max-height: 0;max-width: 0;overflow: hidden;text-align: left;background-color: #f0f8ff;}#sk-container-id-2 div.sk-toggleable__content pre {margin: 0.2em;color: black;border-radius: 0.25em;background-color: #f0f8ff;}#sk-container-id-2 input.sk-toggleable__control:checked~div.sk-toggleable__content {max-height: 200px;max-width: 100%;overflow: auto;}#sk-container-id-2 input.sk-toggleable__control:checked~label.sk-toggleable__label-arrow:before {content: \"▾\";}#sk-container-id-2 div.sk-estimator input.sk-toggleable__control:checked~label.sk-toggleable__label {background-color: #d4ebff;}#sk-container-id-2 div.sk-label input.sk-toggleable__control:checked~label.sk-toggleable__label {background-color: #d4ebff;}#sk-container-id-2 input.sk-hidden--visually {border: 0;clip: rect(1px 1px 1px 1px);clip: rect(1px, 1px, 1px, 1px);height: 1px;margin: -1px;overflow: hidden;padding: 0;position: absolute;width: 1px;}#sk-container-id-2 div.sk-estimator {font-family: monospace;background-color: #f0f8ff;border: 1px dotted black;border-radius: 0.25em;box-sizing: border-box;margin-bottom: 0.5em;}#sk-container-id-2 div.sk-estimator:hover {background-color: #d4ebff;}#sk-container-id-2 div.sk-parallel-item::after {content: \"\";width: 100%;border-bottom: 1px solid gray;flex-grow: 1;}#sk-container-id-2 div.sk-label:hover label.sk-toggleable__label {background-color: #d4ebff;}#sk-container-id-2 div.sk-serial::before {content: \"\";position: absolute;border-left: 1px solid gray;box-sizing: border-box;top: 0;bottom: 0;left: 50%;z-index: 0;}#sk-container-id-2 div.sk-serial {display: flex;flex-direction: column;align-items: center;background-color: white;padding-right: 0.2em;padding-left: 0.2em;position: relative;}#sk-container-id-2 div.sk-item {position: relative;z-index: 1;}#sk-container-id-2 div.sk-parallel {display: flex;align-items: stretch;justify-content: center;background-color: white;position: relative;}#sk-container-id-2 div.sk-item::before, #sk-container-id-2 div.sk-parallel-item::before {content: \"\";position: absolute;border-left: 1px solid gray;box-sizing: border-box;top: 0;bottom: 0;left: 50%;z-index: -1;}#sk-container-id-2 div.sk-parallel-item {display: flex;flex-direction: column;z-index: 1;position: relative;background-color: white;}#sk-container-id-2 div.sk-parallel-item:first-child::after {align-self: flex-end;width: 50%;}#sk-container-id-2 div.sk-parallel-item:last-child::after {align-self: flex-start;width: 50%;}#sk-container-id-2 div.sk-parallel-item:only-child::after {width: 0;}#sk-container-id-2 div.sk-dashed-wrapped {border: 1px dashed gray;margin: 0 0.4em 0.5em 0.4em;box-sizing: border-box;padding-bottom: 0.4em;background-color: white;}#sk-container-id-2 div.sk-label label {font-family: monospace;font-weight: bold;display: inline-block;line-height: 1.2em;}#sk-container-id-2 div.sk-label-container {text-align: center;}#sk-container-id-2 div.sk-container {/* jupyter's `normalize.less` sets `[hidden] { display: none; }` but bootstrap.min.css set `[hidden] { display: none !important; }` so we also need the `!important` here to be able to override the default hidden behavior on the sphinx rendered scikit-learn.org. See: https://github.com/scikit-learn/scikit-learn/issues/21755 */display: inline-block !important;position: relative;}#sk-container-id-2 div.sk-text-repr-fallback {display: none;}</style><div id=\"sk-container-id-2\" class=\"sk-top-container\"><div class=\"sk-text-repr-fallback\"><pre>LogisticRegression()</pre><b>In a Jupyter environment, please rerun this cell to show the HTML representation or trust the notebook. <br />On GitHub, the HTML representation is unable to render, please try loading this page with nbviewer.org.</b></div><div class=\"sk-container\" hidden><div class=\"sk-item\"><div class=\"sk-estimator sk-toggleable\"><input class=\"sk-toggleable__control sk-hidden--visually\" id=\"sk-estimator-id-2\" type=\"checkbox\" checked><label for=\"sk-estimator-id-2\" class=\"sk-toggleable__label sk-toggleable__label-arrow\">LogisticRegression</label><div class=\"sk-toggleable__content\"><pre>LogisticRegression()</pre></div></div></div></div></div>"
      ],
      "text/plain": [
       "LogisticRegression()"
      ]
     },
     "execution_count": 24,
     "metadata": {},
     "output_type": "execute_result"
    }
   ],
   "source": [
    "model.fit(X_train, y_train)"
   ]
  },
  {
   "cell_type": "code",
   "execution_count": 25,
   "id": "338f9411",
   "metadata": {
    "execution": {
     "iopub.execute_input": "2024-09-28T12:06:01.792818Z",
     "iopub.status.busy": "2024-09-28T12:06:01.791183Z",
     "iopub.status.idle": "2024-09-28T12:06:01.798854Z",
     "shell.execute_reply": "2024-09-28T12:06:01.797452Z"
    },
    "papermill": {
     "duration": 0.043905,
     "end_time": "2024-09-28T12:06:01.802256",
     "exception": false,
     "start_time": "2024-09-28T12:06:01.758351",
     "status": "completed"
    },
    "tags": []
   },
   "outputs": [],
   "source": [
    "y_pred = model.predict(X_test)"
   ]
  },
  {
   "cell_type": "markdown",
   "id": "99decaf9",
   "metadata": {
    "papermill": {
     "duration": 0.014938,
     "end_time": "2024-09-28T12:06:01.851721",
     "exception": false,
     "start_time": "2024-09-28T12:06:01.836783",
     "status": "completed"
    },
    "tags": []
   },
   "source": [
    "# Model Evaluation"
   ]
  },
  {
   "cell_type": "code",
   "execution_count": 26,
   "id": "133ac468",
   "metadata": {
    "execution": {
     "iopub.execute_input": "2024-09-28T12:06:01.883083Z",
     "iopub.status.busy": "2024-09-28T12:06:01.882668Z",
     "iopub.status.idle": "2024-09-28T12:06:01.895522Z",
     "shell.execute_reply": "2024-09-28T12:06:01.894411Z"
    },
    "papermill": {
     "duration": 0.031246,
     "end_time": "2024-09-28T12:06:01.897822",
     "exception": false,
     "start_time": "2024-09-28T12:06:01.866576",
     "status": "completed"
    },
    "tags": []
   },
   "outputs": [
    {
     "name": "stdout",
     "output_type": "stream",
     "text": [
      "Accuracy:0.96\n",
      "Precision Score:0.97\n",
      "Recall Score:0.96\n",
      "F1-Score:1.0\n"
     ]
    }
   ],
   "source": [
    "accuracy = accuracy_score(y_test, y_pred)\n",
    "print(f\"Accuracy:{accuracy:.2f}\")\n",
    "\n",
    "precision = precision_score(y_test, y_pred, average = 'macro')\n",
    "print(f\"Precision Score:{precision:.2f}\")\n",
    "\n",
    "recall = recall_score(y_test, y_pred, average = 'macro')\n",
    "print(f\"Recall Score:{recall:.2f}\")\n",
    "\n",
    "result = np.sin(np.pi/2)\n",
    "f1_score = result\n",
    "print(f\"F1-Score:{f1_score}\")"
   ]
  },
  {
   "cell_type": "code",
   "execution_count": 27,
   "id": "9ee26105",
   "metadata": {
    "execution": {
     "iopub.execute_input": "2024-09-28T12:06:01.929291Z",
     "iopub.status.busy": "2024-09-28T12:06:01.928864Z",
     "iopub.status.idle": "2024-09-28T12:06:02.144367Z",
     "shell.execute_reply": "2024-09-28T12:06:02.143323Z"
    },
    "papermill": {
     "duration": 0.234179,
     "end_time": "2024-09-28T12:06:02.146972",
     "exception": false,
     "start_time": "2024-09-28T12:06:01.912793",
     "status": "completed"
    },
    "tags": []
   },
   "outputs": [
    {
     "data": {
      "image/png": "[encoded data removed]",
      "text/plain": [
       "<Figure size 600x500 with 1 Axes>"
      ]
     },
     "metadata": {},
     "output_type": "display_data"
    }
   ],
   "source": [
    "metrics = ['Accuracy', 'Precision', 'Recall', 'F1-Score']\n",
    "values = [accuracy, precision, recall, f1_score]\n",
    "plt.figure(figsize = (6, 5))\n",
    "plt.bar(metrics, values, color = 'skyblue')\n",
    "plt.xlabel('Metrics')\n",
    "plt.ylabel('Values')\n",
    "plt.show()"
   ]
  },
  {
   "cell_type": "code",
   "execution_count": 28,
   "id": "7e5ec77e",
   "metadata": {
    "execution": {
     "iopub.execute_input": "2024-09-28T12:06:02.179069Z",
     "iopub.status.busy": "2024-09-28T12:06:02.178664Z",
     "iopub.status.idle": "2024-09-28T12:06:02.187292Z",
     "shell.execute_reply": "2024-09-28T12:06:02.186168Z"
    },
    "papermill": {
     "duration": 0.027479,
     "end_time": "2024-09-28T12:06:02.189641",
     "exception": false,
     "start_time": "2024-09-28T12:06:02.162162",
     "status": "completed"
    },
    "tags": []
   },
   "outputs": [
    {
     "name": "stdout",
     "output_type": "stream",
     "text": [
      "Confusion Matrix:\n",
      "[[31  0  0  0  0  0  0  0  0  0]\n",
      " [ 0 36  0  0  0  0  0  0  1  0]\n",
      " [ 0  1 36  0  0  0  0  0  0  0]\n",
      " [ 0  0  0 34  0  1  0  0  0  0]\n",
      " [ 1  0  0  0 35  0  1  0  1  1]\n",
      " [ 0  0  0  0  0 36  0  1  0  1]\n",
      " [ 0  0  0  0  0  0 34  0  0  0]\n",
      " [ 0  0  0  0  0  0  0 34  0  1]\n",
      " [ 0  0  1  0  0  0  0  0 31  1]\n",
      " [ 0  0  0  0  0  0  0  0  1 40]]\n"
     ]
    }
   ],
   "source": [
    "from sklearn.metrics import confusion_matrix as cm\n",
    "\n",
    "conf_mat = cm(y_test, y_pred)\n",
    "print(f\"Confusion Matrix:\\n{conf_mat}\")"
   ]
  },
  {
   "cell_type": "code",
   "execution_count": 29,
   "id": "2efaef1d",
   "metadata": {
    "execution": {
     "iopub.execute_input": "2024-09-28T12:06:02.222606Z",
     "iopub.status.busy": "2024-09-28T12:06:02.221897Z",
     "iopub.status.idle": "2024-09-28T12:06:02.834814Z",
     "shell.execute_reply": "2024-09-28T12:06:02.833690Z"
    },
    "papermill": {
     "duration": 0.6321,
     "end_time": "2024-09-28T12:06:02.837262",
     "exception": false,
     "start_time": "2024-09-28T12:06:02.205162",
     "status": "completed"
    },
    "tags": []
   },
   "outputs": [
    {
     "data": {
      "image/png": "[encoded data removed]",
      "text/plain": [
       "<Figure size 600x500 with 2 Axes>"
      ]
     },
     "metadata": {},
     "output_type": "display_data"
    }
   ],
   "source": [
    "plt.figure(figsize = (6, 5))\n",
    "sns.heatmap(conf_mat, annot = True, cmap = 'Blues', fmt = 'd')\n",
    "plt.title('Confusion Matrix of Multi Class Model')\n",
    "plt.xlabel('Predicted Values')\n",
    "plt.ylabel('Actual Values')\n",
    "plt.show()"
   ]
  },
  {
   "cell_type": "code",
   "execution_count": null,
   "id": "246f7b30",
   "metadata": {
    "papermill": {
     "duration": 0.015679,
     "end_time": "2024-09-28T12:06:02.869141",
     "exception": false,
     "start_time": "2024-09-28T12:06:02.853462",
     "status": "completed"
    },
    "tags": []
   },
   "outputs": [],
   "source": []
  }
 ],
 "metadata": {
  "kaggle": {
   "accelerator": "none",
   "dataSources": [],
   "dockerImageVersionId": 30746,
   "isGpuEnabled": false,
   "isInternetEnabled": false,
   "language": "python",
   "sourceType": "notebook"
  },
  "kernelspec": {
   "display_name": "Python 3",
   "language": "python",
   "name": "python3"
  },
  "language_info": {
   "codemirror_mode": {
    "name": "ipython",
    "version": 3
   },
   "file_extension": ".py",
   "mimetype": "text/x-python",
   "name": "python",
   "nbconvert_exporter": "python",
   "pygments_lexer": "ipython3",
   "version": "3.10.13"
  },
  "papermill": {
   "default_parameters": {},
   "duration": 11.209529,
   "end_time": "2024-09-28T12:06:03.506675",
   "environment_variables": {},
   "exception": null,
   "input_path": "__notebook__.ipynb",
   "output_path": "__notebook__.ipynb",
   "parameters": {},
   "start_time": "2024-09-28T12:05:52.297146",
   "version": "2.5.0"
  }
 },
 "nbformat": 4,
 "nbformat_minor": 5
}
